{
 "metadata": {
  "kernelspec": {
   "display_name": "Python 2",
   "language": "python",
   "name": "python2"
  },
  "language_info": {
   "codemirror_mode": {
    "name": "ipython",
    "version": 2
   },
   "file_extension": ".py",
   "mimetype": "text/x-python",
   "name": "python",
   "nbconvert_exporter": "python",
   "pygments_lexer": "ipython2",
   "version": "2.7.11"
  },
  "name": "",
  "signature": "sha256:3cf7401612f033b3bf97aa03ee69bd073ebd206f397f0804e38f68f4fa5807a2"
 },
 "nbformat": 3,
 "nbformat_minor": 0,
 "worksheets": [
  {
   "cells": [
    {
     "cell_type": "heading",
     "level": 1,
     "metadata": {},
     "source": [
      "Programaci\u00f3n para *Data Science*"
     ]
    },
    {
     "cell_type": "heading",
     "level": 2,
     "metadata": {},
     "source": [
      "Unidad 2: Breve introducci\u00f3n a la programaci\u00f3n en Python"
     ]
    },
    {
     "cell_type": "markdown",
     "metadata": {},
     "source": [
      "Ejercicios y preguntas te\u00f3ricas\n",
      "-------------------------------\n",
      "\n",
      "A continuaci\u00f3n, encontrar\u00e9is la parte que ten\u00e9is que completar en este m\u00f3dulo y las preguntas te\u00f3ricas que deb\u00e9is contestar.\n",
      "\n",
      "Pod\u00e9is encontrar en la documentaci\u00f3n oficial de *string* funciones que os puedan ser de ayuda para completar los ejercicios: https://docs.python.org/2/library/string.html"
     ]
    },
    {
     "cell_type": "markdown",
     "metadata": {},
     "source": [
      "### Pregunta 1\n",
      "\u00bfCu\u00e1l es la diferencia entre definir un string con comillas simples (' '), comillas dobles(\" \") y tres comillas dobles (\"\"\" \"\"\")?\n",
      "\n",
      "#### Respuesta:\n"
     ]
    },
    {
     "cell_type": "markdown",
     "metadata": {},
     "source": [
      "Las comillas simples (' ') y las comillas dobles (\" \") puedes utilizarse de forma intercambiable, si bien existe un caso en que deber\u00edamos elegir una u otra: si la cadena de texto o string que queremos definir mediante comillas incluye comillas dentro del mismo, utilizaremos el tipo de comillas opuesto para definir el string. De esta forma, evitaremos que el int\u00e9rprete Python detecte el fin de la cadena de texto a mitad de frase. Por ejemplo:"
     ]
    },
    {
     "cell_type": "code",
     "collapsed": false,
     "input": [
      "texto_1 = 'Mi libro favorito se titula \"El retrato de Dorian Gray\".'\n",
      "print texto_1"
     ],
     "language": "python",
     "metadata": {},
     "outputs": [
      {
       "output_type": "stream",
       "stream": "stdout",
       "text": [
        "Mi libro favorito se titula \"El retrato de Dorian Gray\".\n"
       ]
      }
     ],
     "prompt_number": 1
    },
    {
     "cell_type": "markdown",
     "metadata": {},
     "source": [
      "Si, por el contrario, defini\u00e9ramos dicho string mediante comillas dobles, obtendr\u00edamos un error:"
     ]
    },
    {
     "cell_type": "code",
     "collapsed": false,
     "input": [
      "texto_2 = \"Mi libro favorito se titula \"El retrato de Dorian Gray\".\"\n",
      "print texto_2"
     ],
     "language": "python",
     "metadata": {},
     "outputs": [
      {
       "ename": "SyntaxError",
       "evalue": "invalid syntax (<ipython-input-2-45535628f601>, line 1)",
       "output_type": "pyerr",
       "traceback": [
        "\u001b[0;36m  File \u001b[0;32m\"<ipython-input-2-45535628f601>\"\u001b[0;36m, line \u001b[0;32m1\u001b[0m\n\u001b[0;31m    texto_2 = \"Mi libro favorito se titula \"El retrato de Dorian Gray\".\"\u001b[0m\n\u001b[0m                                             ^\u001b[0m\n\u001b[0;31mSyntaxError\u001b[0m\u001b[0;31m:\u001b[0m invalid syntax\n"
       ]
      }
     ],
     "prompt_number": 2
    },
    {
     "cell_type": "markdown",
     "metadata": {},
     "source": [
      "Hemos obtenido un error de \"sintaxis inv\u00e1lida\" debido a que el int\u00e9rprete ha utilizado la primera comilla doble (correspondiente a la cita del libro) como el final de la cadena de texto. En consecuencia, el nombre del libro no se encuentra dentro de la definici\u00f3n del string, generado el error de sintaxis.\n",
      "Finalmente, las comillas triples (\"\"\" \"\"\" o ''' ''') cumplen la misma funcionalidad que las dobles y las simples, con una salvedad: respetan los saltos de l\u00ednea especificados en el string definido, sin necesidad de codificarlos como \"\\n\". Veamos un ejemplo:"
     ]
    },
    {
     "cell_type": "code",
     "collapsed": false,
     "input": [
      "texto_3 = \"\"\"Gama colores fr\u00edos:\n",
      "- Azul\n",
      "- Gris\n",
      "- Violeta\"\"\"\n",
      "print texto_3"
     ],
     "language": "python",
     "metadata": {},
     "outputs": [
      {
       "output_type": "stream",
       "stream": "stdout",
       "text": [
        "Gama colores fr\u00edos:\n",
        "- Azul\n",
        "- Gris\n",
        "- Violeta\n"
       ]
      }
     ],
     "prompt_number": 4
    },
    {
     "cell_type": "markdown",
     "metadata": {},
     "source": [
      "Sin embargo, utilizando comillas dobles se rompe la cadena de texto y se nos notifica un error de sintaxis:"
     ]
    },
    {
     "cell_type": "code",
     "collapsed": false,
     "input": [
      "texto_4 = \"Gama colores fr\u00edos:\n",
      "- Azul\n",
      "- Gris\n",
      "- Violeta\"\n",
      "print texto_4"
     ],
     "language": "python",
     "metadata": {},
     "outputs": [
      {
       "ename": "SyntaxError",
       "evalue": "EOL while scanning string literal (<ipython-input-5-1e9433fe7942>, line 1)",
       "output_type": "pyerr",
       "traceback": [
        "\u001b[0;36m  File \u001b[0;32m\"<ipython-input-5-1e9433fe7942>\"\u001b[0;36m, line \u001b[0;32m1\u001b[0m\n\u001b[0;31m    texto_4 = \"Gama colores fr\u00edos:\u001b[0m\n\u001b[0m                                  ^\u001b[0m\n\u001b[0;31mSyntaxError\u001b[0m\u001b[0;31m:\u001b[0m EOL while scanning string literal\n"
       ]
      }
     ],
     "prompt_number": 5
    },
    {
     "cell_type": "markdown",
     "metadata": {},
     "source": [
      "Si deseamos mantener el formato sin utilizar comillas triples, debemos utilizar \"\\n\" para definir los saltos de l\u00ednea: "
     ]
    },
    {
     "cell_type": "code",
     "collapsed": false,
     "input": [
      "texto_5 = \"Gama colores fr\u00edos: \\n - Azul \\n - Gris \\n - Violeta\"\n",
      "print texto_5"
     ],
     "language": "python",
     "metadata": {},
     "outputs": [
      {
       "output_type": "stream",
       "stream": "stdout",
       "text": [
        "Gama colores fr\u00edos: \n",
        " - Azul \n",
        " - Gris \n",
        " - Violeta\n"
       ]
      }
     ],
     "prompt_number": 6
    },
    {
     "cell_type": "markdown",
     "metadata": {},
     "source": [
      "### Pregunta 2\n",
      "\u00bfQu\u00e9 expresi\u00f3n en Python necesitamos para conseguir el string \"DATADATADATADATA\" utilizando solo la palabra \"DATA\"?\n",
      "\n",
      "#### Respuesta:"
     ]
    },
    {
     "cell_type": "code",
     "collapsed": true,
     "input": [
      "# Definimos un string con el texto que queremos multiplicar y realizamos la operaci\u00f3n sobre \u00e9l\n",
      "texto = \"DATA\"\n",
      "texto_multiple = texto*4\n",
      "# Comprobamos el resultado mostr\u00e1ndolo por pantalla \n",
      "print texto_multiple"
     ],
     "language": "python",
     "metadata": {},
     "outputs": [
      {
       "output_type": "stream",
       "stream": "stdout",
       "text": [
        "DATADATADATADATA\n"
       ]
      }
     ],
     "prompt_number": 8
    },
    {
     "cell_type": "markdown",
     "metadata": {},
     "source": [
      "### Pregunta 3\n",
      "\n",
      "**\u00bfCu\u00e1l es el valor final de a, b y c (atenci\u00f3n a los tipos de n\u00famero decimal y entero)?**\n",
      "\n",
      "a = 3*2\n",
      "\n",
      "b = 9/2.\n",
      "\n",
      "c, a = a+1, b*2\n",
      "\n",
      "#### Respuesta:"
     ]
    },
    {
     "cell_type": "markdown",
     "metadata": {},
     "source": [
      "Las operaciones se realizan secuencialmente. Notamos que la variable \"a\" est\u00e1 definida como entero (int), mientras que el punto (.) al final de la operaci\u00f3n de \"b\" define dicha variable como como decimal (float). Por tanto, obtenemos \"a=6\" (int) y \"b=4.5\" (float).\n",
      "\n",
      "La \u00faltima expresi\u00f3n define una nueva variable \"c\", la cual tambi\u00e9n ser\u00e1 entera, ya que opera \u00fanicamente con valores enteros (\"a\" y \"1\"). Adem\u00e1s, se asigna un nuevo valor a la variable \"a\". En este caso, \"a=b\\*2=4.5\\*2=7.0\", transformando \"a\" en decimal (float). Dicho cambio se debe a que las operaciones implicaban tanto valores valores decimales (\"b\") como enteros (\"2\"), imponi\u00e9ndose el formato decimal en el resultado, ya que proporciona una mayor precisi\u00f3n y es por ende priorizado por el int\u00e9rprete Python en caso de conflicto.\n",
      "\n",
      "As\u00ed pues, los resultados finales son: a=9.0 b=4.5 y c=7. Lo comprobamos mediante la ejecuci\u00f3n de c\u00f3digo:"
     ]
    },
    {
     "cell_type": "code",
     "collapsed": false,
     "input": [
      "a=3*2\n",
      "b=9/2.\n",
      "c, a = a+1, b*2\n",
      "print a, b, c"
     ],
     "language": "python",
     "metadata": {},
     "outputs": [
      {
       "output_type": "stream",
       "stream": "stdout",
       "text": [
        "9.0 4.5 7\n"
       ]
      }
     ],
     "prompt_number": 20
    },
    {
     "cell_type": "markdown",
     "metadata": {},
     "source": [
      "### Pregunta 4\n",
      "\n",
      "**Marcad las expresiones incorrectas y explicad el porqu\u00e9.**\n",
      "* planetas = ('Saturno', 'Jupiter' 'Tierra')\n",
      "* t = '123','abc'\n",
      "* dias = ['Lunes', 'Martes', \"Miercoles\", ''.join(['J','u','e','v','e','s'])]\n",
      "* matriz = [[],[],[]]\n",
      "\n",
      "**Respuesta:**"
     ]
    },
    {
     "cell_type": "markdown",
     "metadata": {},
     "source": [
      "- Incorrecto: El \u00faltimo elemento de la tupla \"planetas\", 'Tierra' no est\u00e1 separado del anterior, 'J\u00fapiter'. De este modo, se est\u00e1 definiendo un vector de tan s\u00f3lo dos elementos, 'Saturno' y 'JupiterTierra', ya que el int\u00e9rprete Python ignora los espacios que no se encuentren entre comillas. Ser\u00eda necesario a\u00f1adir una coma (,) en su lugar.\n",
      "- Correcto\n",
      "- Correcto\n",
      "- "
     ]
    },
    {
     "cell_type": "code",
     "collapsed": false,
     "input": [
      "planetas = ('Saturno', 'Jupiter' 'Tierra')\n",
      "t = '123','abc'\n",
      "dias = ['Lunes', 'Martes', \"Miercoles\", ''.join(['J','u','e','v','e','s'])]\n",
      "matriz = [[],[],[]]\n",
      "\n",
      "print planetas\n",
      "print t\n",
      "print dias\n",
      "print matriz\n"
     ],
     "language": "python",
     "metadata": {},
     "outputs": [
      {
       "output_type": "stream",
       "stream": "stdout",
       "text": [
        "('Saturno', 'JupiterTierra')\n",
        "('123', 'abc')\n",
        "['Lunes', 'Martes', 'Miercoles', 'Jueves']\n",
        "[[], [], []]\n"
       ]
      }
     ],
     "prompt_number": 31
    },
    {
     "cell_type": "markdown",
     "metadata": {},
     "source": [
      "### Pregunta 5\n",
      "\n",
      "Explicad a qu\u00e9 se refieren con el t\u00e9rmino \"batteries included\" en la comunidad Python. Poned algunos ejemplos de paquetes de la librer\u00eda est\u00e1ndar y una breve explicaci\u00f3n de cada uno de ellos.\n",
      "\n",
      "**Respuesta:**"
     ]
    },
    {
     "cell_type": "markdown",
     "metadata": {},
     "source": [
      "El t\u00e9rmino \"batteries included\" hace referencia a la librer\u00eda est\u00e1ndar de Python, la cual incluye multitud de paquetes..."
     ]
    },
    {
     "cell_type": "markdown",
     "metadata": {},
     "source": [
      "### Pregunta 6\n",
      "\n",
      "Python dispone de un idiom muy \u00fatil conocido como list comprehensions. \u00bfPod\u00e9is explicar en qu\u00e9 consiste? Indicad tres ejemplos de c\u00f3digo que utilicen este idiom y documentad cada parte de c\u00f3digo relevante.\n",
      "\n",
      "**Respuesta:**"
     ]
    },
    {
     "cell_type": "markdown",
     "metadata": {},
     "source": [
      "Respuesta"
     ]
    },
    {
     "cell_type": "markdown",
     "metadata": {},
     "source": [
      "### Ejercicio 1\n",
      "\n",
      "Escribid un programa que asigne dos valores enteros cualesquiera (escoged un n\u00famero entero aleatorio) a dos variables con nombre a y b, calcule el producto de a por b y finalmente muestre el valor del cuadrado del producto de a por b.\n",
      "\n",
      "#### Respuesta:"
     ]
    },
    {
     "cell_type": "code",
     "collapsed": true,
     "input": [
      "# Respuesta"
     ],
     "language": "python",
     "metadata": {},
     "outputs": [],
     "prompt_number": 8
    },
    {
     "cell_type": "markdown",
     "metadata": {},
     "source": [
      "### Ejercicio 2\n",
      "\n",
      "Escribid un programa que defina una lista cuyos valores sean los nombres de los d\u00edas de la semana. Haced que muestre el primer y el \u00faltimo d\u00eda de la semana.\n",
      "\n",
      "#### Respuesta:"
     ]
    },
    {
     "cell_type": "code",
     "collapsed": true,
     "input": [
      "# Respuesta"
     ],
     "language": "python",
     "metadata": {},
     "outputs": [],
     "prompt_number": 1
    },
    {
     "cell_type": "markdown",
     "metadata": {},
     "source": [
      "### Ejercicio 3\n",
      "\n",
      "Escribid un programa que calcule el \u00e1rea de un c\u00edrculo de radio 3.\n",
      "\n",
      "#### Respuesta:"
     ]
    },
    {
     "cell_type": "code",
     "collapsed": true,
     "input": [
      "# Respuesta"
     ],
     "language": "python",
     "metadata": {},
     "outputs": [],
     "prompt_number": 2
    },
    {
     "cell_type": "markdown",
     "metadata": {},
     "source": [
      "### Ejercicio 4\n",
      "\n",
      "Escribid un programa donde se defina un diccionario con algunos de los prefijos telef\u00f3nicos de Espa\u00f1a. Por ejemplo: 93 para Barcelona, 91 para Madrid, etc.\n",
      "\n",
      "#### Respuesta:"
     ]
    },
    {
     "cell_type": "code",
     "collapsed": true,
     "input": [
      "# Respuesta"
     ],
     "language": "python",
     "metadata": {},
     "outputs": [],
     "prompt_number": 3
    }
   ],
   "metadata": {}
  }
 ]
}