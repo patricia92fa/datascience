{
 "cells": [
  {
   "cell_type": "markdown",
   "metadata": {},
   "source": [
    "# Programación para *Data Science*"
   ]
  },
  {
   "cell_type": "markdown",
   "metadata": {},
   "source": [
    "## Unidad 2: Breve introducción a la programación en Python"
   ]
  },
  {
   "cell_type": "markdown",
   "metadata": {},
   "source": [
    "Ejercicios y preguntas teóricas\n",
    "-------------------------------\n",
    "\n",
    "A continuación, encontraréis la parte que tenéis que completar en este módulo y las preguntas teóricas que debéis contestar.\n",
    "\n",
    "Podéis encontrar en la documentación oficial de *string* funciones que os puedan ser de ayuda para completar los ejercicios: https://docs.python.org/2/library/string.html"
   ]
  },
  {
   "cell_type": "markdown",
   "metadata": {},
   "source": [
    "### Pregunta 1\n",
    "¿Cuál es la diferencia entre definir un string con comillas simples (' '), comillas dobles(\" \") y tres comillas dobles (\"\"\" \"\"\")?\n",
    "\n",
    "#### Respuesta:\n"
   ]
  },
  {
   "cell_type": "markdown",
   "metadata": {},
   "source": [
    "Las comillas simples (' ') y las comillas dobles (\" \") puedes utilizarse de forma intercambiable, si bien existe un caso en que deberíamos elegir una u otra: si la cadena de texto o string que queremos definir mediante comillas incluye comillas dentro del mismo, utilizaremos el tipo de comillas opuesto para definir el string. De esta forma, evitaremos que el intérprete Python detecte el fin de la cadena de texto a mitad de frase. Por ejemplo:"
   ]
  },
  {
   "cell_type": "code",
   "execution_count": 1,
   "metadata": {},
   "outputs": [
    {
     "name": "stdout",
     "output_type": "stream",
     "text": [
      "Mi libro favorito se titula \"El retrato de Dorian Gray\".\n"
     ]
    }
   ],
   "source": [
    "texto_1 = 'Mi libro favorito se titula \"El retrato de Dorian Gray\".'\n",
    "print texto_1"
   ]
  },
  {
   "cell_type": "markdown",
   "metadata": {},
   "source": [
    "Si, por el contrario, definiéramos dicho string mediante comillas dobles, obtendríamos un error:"
   ]
  },
  {
   "cell_type": "code",
   "execution_count": 2,
   "metadata": {},
   "outputs": [
    {
     "ename": "SyntaxError",
     "evalue": "invalid syntax (<ipython-input-2-45535628f601>, line 1)",
     "output_type": "error",
     "traceback": [
      "\u001b[0;36m  File \u001b[0;32m\"<ipython-input-2-45535628f601>\"\u001b[0;36m, line \u001b[0;32m1\u001b[0m\n\u001b[0;31m    texto_2 = \"Mi libro favorito se titula \"El retrato de Dorian Gray\".\"\u001b[0m\n\u001b[0m                                             ^\u001b[0m\n\u001b[0;31mSyntaxError\u001b[0m\u001b[0;31m:\u001b[0m invalid syntax\n"
     ]
    }
   ],
   "source": [
    "texto_2 = \"Mi libro favorito se titula \"El retrato de Dorian Gray\".\"\n",
    "print texto_2"
   ]
  },
  {
   "cell_type": "markdown",
   "metadata": {},
   "source": [
    "Hemos obtenido un error de \"sintaxis inválida\" debido a que el intérprete ha utilizado la primera comilla doble (correspondiente a la cita del libro) como el final de la cadena de texto. En consecuencia, el nombre del libro no se encuentra dentro de la definición del string, generado el error de sintaxis.\n",
    "Finalmente, las comillas triples (\"\"\" \"\"\" o ''' ''') cumplen la misma funcionalidad que las dobles y las simples, con una salvedad: respetan los saltos de línea especificados en el string definido, sin necesidad de codificarlos como \"\\n\". Veamos un ejemplo:"
   ]
  },
  {
   "cell_type": "code",
   "execution_count": 4,
   "metadata": {},
   "outputs": [
    {
     "name": "stdout",
     "output_type": "stream",
     "text": [
      "Gama colores fríos:\n",
      "- Azul\n",
      "- Gris\n",
      "- Violeta\n"
     ]
    }
   ],
   "source": [
    "texto_3 = \"\"\"Gama colores fríos:\n",
    "- Azul\n",
    "- Gris\n",
    "- Violeta\"\"\"\n",
    "print texto_3"
   ]
  },
  {
   "cell_type": "markdown",
   "metadata": {},
   "source": [
    "Sin embargo, utilizando comillas dobles se rompe la cadena de texto y se nos notifica un error de sintaxis:"
   ]
  },
  {
   "cell_type": "code",
   "execution_count": 5,
   "metadata": {},
   "outputs": [
    {
     "ename": "SyntaxError",
     "evalue": "EOL while scanning string literal (<ipython-input-5-1e9433fe7942>, line 1)",
     "output_type": "error",
     "traceback": [
      "\u001b[0;36m  File \u001b[0;32m\"<ipython-input-5-1e9433fe7942>\"\u001b[0;36m, line \u001b[0;32m1\u001b[0m\n\u001b[0;31m    texto_4 = \"Gama colores fríos:\u001b[0m\n\u001b[0m                                  ^\u001b[0m\n\u001b[0;31mSyntaxError\u001b[0m\u001b[0;31m:\u001b[0m EOL while scanning string literal\n"
     ]
    }
   ],
   "source": [
    "texto_4 = \"Gama colores fríos:\n",
    "- Azul\n",
    "- Gris\n",
    "- Violeta\"\n",
    "print texto_4"
   ]
  },
  {
   "cell_type": "markdown",
   "metadata": {},
   "source": [
    "Si deseamos mantener el formato sin utilizar comillas triples, debemos utilizar \"\\n\" para definir los saltos de línea: "
   ]
  },
  {
   "cell_type": "code",
   "execution_count": 6,
   "metadata": {},
   "outputs": [
    {
     "name": "stdout",
     "output_type": "stream",
     "text": [
      "Gama colores fríos: \n",
      " - Azul \n",
      " - Gris \n",
      " - Violeta\n"
     ]
    }
   ],
   "source": [
    "texto_5 = \"Gama colores fríos: \\n - Azul \\n - Gris \\n - Violeta\"\n",
    "print texto_5"
   ]
  },
  {
   "cell_type": "markdown",
   "metadata": {},
   "source": [
    "### Pregunta 2\n",
    "¿Qué expresión en Python necesitamos para conseguir el string \"DATADATADATADATA\" utilizando solo la palabra \"DATA\"?\n",
    "\n",
    "#### Respuesta:"
   ]
  },
  {
   "cell_type": "code",
   "execution_count": 8,
   "metadata": {
    "collapsed": true
   },
   "outputs": [
    {
     "name": "stdout",
     "output_type": "stream",
     "text": [
      "DATADATADATADATA\n"
     ]
    }
   ],
   "source": [
    "# Definimos un string con el texto que queremos multiplicar y realizamos la operación sobre él\n",
    "texto = \"DATA\"\n",
    "texto_multiple = texto*4\n",
    "# Comprobamos el resultado mostrándolo por pantalla \n",
    "print texto_multiple"
   ]
  },
  {
   "cell_type": "markdown",
   "metadata": {},
   "source": [
    "### Pregunta 3\n",
    "\n",
    "**¿Cuál es el valor final de a, b y c (atención a los tipos de número decimal y entero)?**\n",
    "\n",
    "a = 3*2\n",
    "\n",
    "b = 9/2.\n",
    "\n",
    "c, a = a+1, b*2\n",
    "\n",
    "#### Respuesta:"
   ]
  },
  {
   "cell_type": "markdown",
   "metadata": {},
   "source": [
    "Las operaciones se realizan secuencialmente. Notamos que la variable \"a\" está definida como entero (int), mientras que el punto (.) al final de la operación de \"b\" define dicha variable como como decimal (float). Por tanto, obtenemos \"a=6\" (int) y \"b=4.5\" (float).\n",
    "\n",
    "La última expresión define una nueva variable \"c\", la cual también será entera, ya que opera únicamente con valores enteros (\"a\" y \"1\"). Además, se asigna un nuevo valor a la variable \"a\". En este caso, \"a=b\\*2=4.5\\*2=7.0\", transformando \"a\" en decimal (float). Dicho cambio se debe a que las operaciones implicaban tanto valores valores decimales (\"b\") como enteros (\"2\"), imponiéndose el formato decimal en el resultado, ya que proporciona una mayor precisión y es por ende priorizado por el intérprete Python en caso de conflicto.\n",
    "\n",
    "Así pues, los resultados finales son: a=9.0 b=4.5 y c=7. Lo comprobamos mediante la ejecución de código:"
   ]
  },
  {
   "cell_type": "code",
   "execution_count": 20,
   "metadata": {},
   "outputs": [
    {
     "name": "stdout",
     "output_type": "stream",
     "text": [
      "9.0 4.5 7\n"
     ]
    }
   ],
   "source": [
    "a=3*2\n",
    "b=9/2.\n",
    "c, a = a+1, b*2\n",
    "print a, b, c"
   ]
  },
  {
   "cell_type": "markdown",
   "metadata": {},
   "source": [
    "### Pregunta 4\n",
    "\n",
    "**Marcad las expresiones incorrectas y explicad el porqué.**\n",
    "* planetas = ('Saturno', 'Jupiter' 'Tierra')\n",
    "* t = '123','abc'\n",
    "* dias = ['Lunes', 'Martes', \"Miercoles\", ''.join(['J','u','e','v','e','s'])]\n",
    "* matriz = [[],[],[]]\n",
    "\n",
    "**Respuesta:**"
   ]
  },
  {
   "cell_type": "markdown",
   "metadata": {},
   "source": [
    "- Incorrecto: El último elemento de la tupla \"planetas\", 'Tierra' no está separado del anterior, 'Júpiter'. De este modo, se está definiendo un vector de tan sólo dos elementos, 'Saturno' y 'JupiterTierra', ya que el intérprete Python ignora los espacios que no se encuentren entre comillas. Sería necesario añadir una coma (,) en su lugar.\n",
    "- Correcto\n",
    "- Correcto\n",
    "- "
   ]
  },
  {
   "cell_type": "code",
   "execution_count": 31,
   "metadata": {},
   "outputs": [
    {
     "name": "stdout",
     "output_type": "stream",
     "text": [
      "('Saturno', 'JupiterTierra')\n",
      "('123', 'abc')\n",
      "['Lunes', 'Martes', 'Miercoles', 'Jueves']\n",
      "[[], [], []]\n"
     ]
    }
   ],
   "source": [
    "planetas = ('Saturno', 'Jupiter' 'Tierra')\n",
    "t = '123','abc'\n",
    "dias = ['Lunes', 'Martes', \"Miercoles\", ''.join(['J','u','e','v','e','s'])]\n",
    "matriz = [[],[],[]]\n",
    "\n",
    "print planetas\n",
    "print t\n",
    "print dias\n",
    "print matriz\n"
   ]
  },
  {
   "cell_type": "markdown",
   "metadata": {},
   "source": [
    "### Pregunta 5\n",
    "\n",
    "Explicad a qué se refieren con el término \"batteries included\" en la comunidad Python. Poned algunos ejemplos de paquetes de la librería estándar y una breve explicación de cada uno de ellos.\n",
    "\n",
    "**Respuesta:**"
   ]
  },
  {
   "cell_type": "markdown",
   "metadata": {},
   "source": [
    "El término \"batteries included\" hace referencia a la librería estándar de Python, la cual incluye multitud de paquetes..."
   ]
  },
  {
   "cell_type": "markdown",
   "metadata": {},
   "source": [
    "### Pregunta 6\n",
    "\n",
    "Python dispone de un idiom muy útil conocido como list comprehensions. ¿Podéis explicar en qué consiste? Indicad tres ejemplos de código que utilicen este idiom y documentad cada parte de código relevante.\n",
    "\n",
    "**Respuesta:**"
   ]
  },
  {
   "cell_type": "markdown",
   "metadata": {},
   "source": [
    "Respuesta"
   ]
  },
  {
   "cell_type": "markdown",
   "metadata": {},
   "source": [
    "### Ejercicio 1\n",
    "\n",
    "Escribid un programa que asigne dos valores enteros cualesquiera (escoged un número entero aleatorio) a dos variables con nombre a y b, calcule el producto de a por b y finalmente muestre el valor del cuadrado del producto de a por b.\n",
    "\n",
    "#### Respuesta:"
   ]
  },
  {
   "cell_type": "code",
   "execution_count": 8,
   "metadata": {
    "collapsed": true
   },
   "outputs": [],
   "source": [
    "#Importamos la funcion random\n",
    "import random\n",
    "#Asignamos dos valores enteros aleatorio entre 0 y 100 a cada una de las variables a y b\n",
    "a, b = random.randint(0,100), random.randint(0,100)\n",
    "#Calculamos el producto de a por b\n",
    "c = a*b\n",
    "#Mostramos por pantalla el cuadrado de a por b\n",
    "print (c**2)"
   ]
  },
  {
   "cell_type": "markdown",
   "metadata": {},
   "source": [
    "### Ejercicio 2\n",
    "\n",
    "Escribid un programa que defina una lista cuyos valores sean los nombres de los días de la semana. Haced que muestre el primer y el último día de la semana.\n",
    "\n",
    "#### Respuesta:"
   ]
  },
  {
   "cell_type": "code",
   "execution_count": 1,
   "metadata": {
    "collapsed": true
   },
   "outputs": [],
   "source": [
    "#Creamos una lista cuyos elementos son strings de los dias de la semana\n",
    "dias_semana = ['Lunes', 'Martes', 'Miercoles', 'Jueves', 'Viernes', 'Sabado', 'Domingo']\n",
    "#Mostramos por pantalla el primer y ultimo elemento de la lista\n",
    "print (dias_semana[0], dias_semana[-1])"
   ]
  },
  {
   "cell_type": "markdown",
   "metadata": {},
   "source": [
    "### Ejercicio 3\n",
    "\n",
    "Escribid un programa que calcule el área de un círculo de radio 3.\n",
    "\n",
    "#### Respuesta:"
   ]
  },
  {
   "cell_type": "code",
   "execution_count": 1,
   "metadata": {},
   "outputs": [
    {
     "name": "stdout",
     "output_type": "stream",
     "text": [
      "0.0\n"
     ]
    }
   ],
   "source": [
    "#Importamos las librerias random y math\n",
    "import random, math\n",
    "#Definimos el radio del circulo como un valor entero aleatorio entre 0 y 100\n",
    "radio = random.randint(0,100)\n",
    "#Calculamos el area del circulo utilizando la constante pi de la libreria math\n",
    "area_circulo = math.pi*radio**2\n",
    "#Mostramos por pantalla el valor del area calculado\n",
    "print (area_circulo)"
   ]
  },
  {
   "cell_type": "markdown",
   "metadata": {},
   "source": [
    "### Ejercicio 4\n",
    "\n",
    "Escribid un programa donde se defina un diccionario con algunos de los prefijos telefónicos de España. Por ejemplo: 93 para Barcelona, 91 para Madrid, etc.\n",
    "\n",
    "#### Respuesta:"
   ]
  },
  {
   "cell_type": "code",
   "execution_count": 4,
   "metadata": {},
   "outputs": [
    {
     "ename": "SyntaxError",
     "evalue": "invalid syntax (<ipython-input-4-2b7ad4678ecc>, line 3)",
     "output_type": "error",
     "traceback": [
      "\u001b[0;36m  File \u001b[0;32m\"<ipython-input-4-2b7ad4678ecc>\"\u001b[0;36m, line \u001b[0;32m3\u001b[0m\n\u001b[0;31m    print ()\"dict['Barcelona']\", dict['Barcelona'])\u001b[0m\n\u001b[0m                              ^\u001b[0m\n\u001b[0;31mSyntaxError\u001b[0m\u001b[0;31m:\u001b[0m invalid syntax\n"
     ]
    }
   ],
   "source": [
    "# Respuesta\n",
    "prefijos = {'Barcelona': 93, 'Madrid': 91, 'Galicia': 988}\n",
    "print ()\"dict['Barcelona']\", dict['Barcelona'])"
   ]
  },
  {
   "cell_type": "code",
   "execution_count": null,
   "metadata": {},
   "outputs": [],
   "source": []
  }
 ],
 "metadata": {
  "kernelspec": {
   "display_name": "Python 3",
   "language": "python",
   "name": "python3"
  },
  "language_info": {
   "codemirror_mode": {
    "name": "ipython",
    "version": 3
   },
   "file_extension": ".py",
   "mimetype": "text/x-python",
   "name": "python",
   "nbconvert_exporter": "python",
   "pygments_lexer": "ipython3",
   "version": "3.5.2"
  }
 },
 "nbformat": 4,
 "nbformat_minor": 1
}
