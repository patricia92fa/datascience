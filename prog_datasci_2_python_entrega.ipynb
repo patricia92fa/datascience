{
 "cells": [
  {
   "cell_type": "markdown",
   "metadata": {},
   "source": [
    "# Programación para *Data Science*"
   ]
  },
  {
   "cell_type": "markdown",
   "metadata": {},
   "source": [
    "## Unidad 2: Breve introducción a la programación en Python"
   ]
  },
  {
   "cell_type": "markdown",
   "metadata": {},
   "source": [
    "Ejercicios y preguntas teóricas\n",
    "-------------------------------\n",
    "\n",
    "A continuación, encontraréis la parte que tenéis que completar en este módulo y las preguntas teóricas que debéis contestar.\n",
    "\n",
    "Podéis encontrar en la documentación oficial de *string* funciones que os puedan ser de ayuda para completar los ejercicios: https://docs.python.org/2/library/string.html"
   ]
  },
  {
   "cell_type": "markdown",
   "metadata": {},
   "source": [
    "### Pregunta 1\n",
    "¿Cuál es la diferencia entre definir un string con comillas simples (' '), comillas dobles(\" \") y tres comillas dobles (\"\"\" \"\"\")?\n",
    "\n",
    "#### Respuesta:\n"
   ]
  },
  {
   "cell_type": "markdown",
   "metadata": {},
   "source": [
    "Las comillas simples (' ') y las comillas dobles (\" \") puedes utilizarse de forma intercambiable, si bien existe un caso en que deberíamos elegir una u otra: si la cadena de texto o string que queremos definir mediante comillas incluye comillas dentro del mismo, utilizaremos el tipo de comillas opuesto para definir el string. De esta forma, evitaremos que el intérprete Python detecte el fin de la cadena de texto a mitad de frase. Por ejemplo:"
   ]
  },
  {
   "cell_type": "code",
   "execution_count": 1,
   "metadata": {},
   "outputs": [
    {
     "name": "stdout",
     "output_type": "stream",
     "text": [
      "Mi libro favorito se titula \"El retrato de Dorian Gray\".\n"
     ]
    }
   ],
   "source": [
    "texto_1 = 'Mi libro favorito se titula \"El retrato de Dorian Gray\".'\n",
    "print texto_1"
   ]
  },
  {
   "cell_type": "markdown",
   "metadata": {},
   "source": [
    "Si, por el contrario, definiéramos dicho string mediante comillas dobles, obtendríamos un error:"
   ]
  },
  {
   "cell_type": "code",
   "execution_count": 2,
   "metadata": {},
   "outputs": [
    {
     "ename": "SyntaxError",
     "evalue": "invalid syntax (<ipython-input-2-45535628f601>, line 1)",
     "output_type": "error",
     "traceback": [
      "\u001b[0;36m  File \u001b[0;32m\"<ipython-input-2-45535628f601>\"\u001b[0;36m, line \u001b[0;32m1\u001b[0m\n\u001b[0;31m    texto_2 = \"Mi libro favorito se titula \"El retrato de Dorian Gray\".\"\u001b[0m\n\u001b[0m                                             ^\u001b[0m\n\u001b[0;31mSyntaxError\u001b[0m\u001b[0;31m:\u001b[0m invalid syntax\n"
     ]
    }
   ],
   "source": [
    "texto_2 = \"Mi libro favorito se titula \"El retrato de Dorian Gray\".\"\n",
    "print texto_2"
   ]
  },
  {
   "cell_type": "markdown",
   "metadata": {},
   "source": [
    "Hemos obtenido un error de \"sintaxis inválida\" debido a que el intérprete ha utilizado la primera comilla doble (correspondiente a la cita del libro) como el final de la cadena de texto. En consecuencia, el nombre del libro no se encuentra dentro de la definición del string, generado el error de sintaxis.\n",
    "Finalmente, las comillas triples (\"\"\" \"\"\" o ''' ''') cumplen la misma funcionalidad que las dobles y las simples, con una salvedad: respetan los saltos de línea especificados en el string definido, sin necesidad de codificarlos como \"\\n\". Veamos un ejemplo:"
   ]
  },
  {
   "cell_type": "code",
   "execution_count": 4,
   "metadata": {},
   "outputs": [
    {
     "name": "stdout",
     "output_type": "stream",
     "text": [
      "Gama colores fríos:\n",
      "- Azul\n",
      "- Gris\n",
      "- Violeta\n"
     ]
    }
   ],
   "source": [
    "texto_3 = \"\"\"Gama colores fríos:\n",
    "- Azul\n",
    "- Gris\n",
    "- Violeta\"\"\"\n",
    "print texto_3"
   ]
  },
  {
   "cell_type": "markdown",
   "metadata": {},
   "source": [
    "Sin embargo, utilizando comillas dobles se rompe la cadena de texto y se nos notifica un error de sintaxis:"
   ]
  },
  {
   "cell_type": "code",
   "execution_count": 5,
   "metadata": {},
   "outputs": [
    {
     "ename": "SyntaxError",
     "evalue": "EOL while scanning string literal (<ipython-input-5-1e9433fe7942>, line 1)",
     "output_type": "error",
     "traceback": [
      "\u001b[0;36m  File \u001b[0;32m\"<ipython-input-5-1e9433fe7942>\"\u001b[0;36m, line \u001b[0;32m1\u001b[0m\n\u001b[0;31m    texto_4 = \"Gama colores fríos:\u001b[0m\n\u001b[0m                                  ^\u001b[0m\n\u001b[0;31mSyntaxError\u001b[0m\u001b[0;31m:\u001b[0m EOL while scanning string literal\n"
     ]
    }
   ],
   "source": [
    "texto_4 = \"Gama colores fríos:\n",
    "- Azul\n",
    "- Gris\n",
    "- Violeta\"\n",
    "print texto_4"
   ]
  },
  {
   "cell_type": "markdown",
   "metadata": {},
   "source": [
    "Si deseamos mantener el formato sin utilizar comillas triples, debemos utilizar \"\\n\" para definir los saltos de línea: "
   ]
  },
  {
   "cell_type": "code",
   "execution_count": 6,
   "metadata": {},
   "outputs": [
    {
     "name": "stdout",
     "output_type": "stream",
     "text": [
      "Gama colores fríos: \n",
      " - Azul \n",
      " - Gris \n",
      " - Violeta\n"
     ]
    }
   ],
   "source": [
    "texto_5 = \"Gama colores fríos: \\n - Azul \\n - Gris \\n - Violeta\"\n",
    "print texto_5"
   ]
  },
  {
   "cell_type": "markdown",
   "metadata": {},
   "source": [
    "### Pregunta 2\n",
    "¿Qué expresión en Python necesitamos para conseguir el string \"DATADATADATADATA\" utilizando solo la palabra \"DATA\"?\n",
    "\n",
    "#### Respuesta:"
   ]
  },
  {
   "cell_type": "code",
   "execution_count": 8,
   "metadata": {
    "collapsed": true
   },
   "outputs": [
    {
     "name": "stdout",
     "output_type": "stream",
     "text": [
      "DATADATADATADATA\n"
     ]
    }
   ],
   "source": [
    "# Definimos un string con el texto que queremos multiplicar y realizamos la operación sobre él\n",
    "texto = \"DATA\"\n",
    "texto_multiple = texto*4\n",
    "# Comprobamos el resultado mostrándolo por pantalla \n",
    "print texto_multiple"
   ]
  },
  {
   "cell_type": "markdown",
   "metadata": {},
   "source": [
    "### Pregunta 3\n",
    "\n",
    "**¿Cuál es el valor final de a, b y c (atención a los tipos de número decimal y entero)?**\n",
    "\n",
    "a = 3*2\n",
    "\n",
    "b = 9/2.\n",
    "\n",
    "c, a = a+1, b*2\n",
    "\n",
    "#### Respuesta:"
   ]
  },
  {
   "cell_type": "markdown",
   "metadata": {},
   "source": [
    "Las operaciones se realizan secuencialmente. Notamos que la variable \"a\" está definida como entero (int), mientras que el punto (.) al final de la operación de \"b\" define dicha variable como como decimal (float). Por tanto, obtenemos \"a=6\" (int) y \"b=4.5\" (float).\n",
    "\n",
    "La última expresión define una nueva variable \"c\", la cual también será entera, ya que opera únicamente con valores enteros (\"a\" y \"1\"). Además, se asigna un nuevo valor a la variable \"a\". En este caso, \"a=b\\*2=4.5\\*2=7.0\", transformando \"a\" en decimal (float). Dicho cambio se debe a que las operaciones implicaban tanto valores valores decimales (\"b\") como enteros (\"2\"), imponiéndose el formato decimal en el resultado, ya que proporciona una mayor precisión y es por ende priorizado por el intérprete Python en caso de conflicto.\n",
    "\n",
    "Así pues, los resultados finales son: a=9.0 b=4.5 y c=7. Lo comprobamos mediante la ejecución de código:"
   ]
  },
  {
   "cell_type": "code",
   "execution_count": 20,
   "metadata": {},
   "outputs": [
    {
     "name": "stdout",
     "output_type": "stream",
     "text": [
      "9.0 4.5 7\n"
     ]
    }
   ],
   "source": [
    "a=3*2\n",
    "b=9/2.\n",
    "c, a = a+1, b*2\n",
    "print a, b, c"
   ]
  },
  {
   "cell_type": "markdown",
   "metadata": {},
   "source": [
    "### Pregunta 4\n",
    "\n",
    "**Marcad las expresiones incorrectas y explicad el porqué.**\n",
    "* planetas = ('Saturno', 'Jupiter' 'Tierra')\n",
    "* t = '123','abc'\n",
    "* dias = ['Lunes', 'Martes', \"Miercoles\", ''.join(['J','u','e','v','e','s'])]\n",
    "* matriz = [[],[],[]]\n",
    "\n",
    "**Respuesta:**"
   ]
  },
  {
   "cell_type": "markdown",
   "metadata": {},
   "source": [
    "- Incorrecto: El último elemento de la tupla \"planetas\", 'Tierra' no está separado del anterior, 'Júpiter'. De este modo, se está definiendo un vector de tan sólo dos elementos, 'Saturno' y 'JupiterTierra', ya que el intérprete Python ignora los espacios que no se encuentren entre comillas. Sería necesario añadir una coma (,) en su lugar.\n",
    "- Correcto\n",
    "- Correcto\n",
    "- Correcto, aunque la instrucción no define necesariamente una matriz (ya que aún no se han especificado sus elementos), si no un array unidimensional de elementos '[]'.\n",
    "\n",
    "Mostramos por pantalla las expresiones anteriores por tal de validar contenidos"
   ]
  },
  {
   "cell_type": "code",
   "execution_count": 61,
   "metadata": {},
   "outputs": [
    {
     "name": "stdout",
     "output_type": "stream",
     "text": [
      "('Saturno', 'JupiterTierra')\n",
      "('123', 'abc')\n",
      "['Lunes', 'Martes', 'Miercoles', 'Jueves']\n",
      "[[], [], []]\n",
      "[]\n"
     ]
    }
   ],
   "source": [
    "planetas = ('Saturno', 'Jupiter' 'Tierra')\n",
    "t = '123','abc'\n",
    "dias = ['Lunes', 'Martes', \"Miercoles\", ''.join(['J','u','e','v','e','s'])]\n",
    "matriz = [[],[],[]]\n",
    "\n",
    "print (planetas)\n",
    "print (t)\n",
    "print (dias)\n",
    "#Mostramos por pantalla el contenido de 'matriz'\n",
    "print (matriz)\n",
    "#Mostramos el segundo elemento de 'matriz', tratandólo como una lista\n",
    "print (matriz[1])\n"
   ]
  },
  {
   "cell_type": "markdown",
   "metadata": {},
   "source": [
    "### Pregunta 5\n",
    "\n",
    "Explicad a qué se refieren con el término \"batteries included\" en la comunidad Python. Poned algunos ejemplos de paquetes de la librería estándar y una breve explicación de cada uno de ellos.\n",
    "\n",
    "**Respuesta:**"
   ]
  },
  {
   "cell_type": "markdown",
   "metadata": {},
   "source": [
    "El término \"batteries included\" hace referencia a la librería estándar de Python (stdlib), la cual incluye multitud de paquetes con utilidades robustas, que permiten un desarrollo inmediato de multitud de aplicaciones sin necesidad de descargar paquetes adicionales. Algunos de los paquetes más interesantes son:\n",
    "- Módulo de interacción con el Sistema Operativo: el paquete 'os' contiene multitud de funciones que permiten interactuar con el sistema operativo base como consulta y modificación de variables de entorno, paths, usuarios, grupos, parámetros de procesos, etc.\n",
    "- Argumentos de línea de comando: el módulo 'sys' proporciona acceso a algunas variables utilizadas o mantenidas por el intérprete: flags, configuración de floats (precisión y representación interna), límite de recursividad, redirección de mensajes de error, etc.\n",
    "- Matemáticas: el módulo 'math' da acceso a una librería C con multitud de funciones matemáticas implementadas, tales como constantes, métricas estadísticas (variancia, media, distribuciones, etc), generadores de valores, entre muchos otros.\n",
    "- Compresión de datos: diversos módulos como 'zlib', 'gzip', 'bz2', 'lzma' o 'zipfile' proporcionan distintos métodos de archivado y compresión de ficheros.\n",
    "Otros módulos notables gestionan el uso de fechas y horas ('datetime'), el acceso a internet ('urllib', 'smtplib') o el control de calidad ('unitest','doctest')."
   ]
  },
  {
   "cell_type": "markdown",
   "metadata": {},
   "source": [
    "### Pregunta 6\n",
    "\n",
    "Python dispone de un idiom muy útil conocido como list comprehensions. ¿Podéis explicar en qué consiste? Indicad tres ejemplos de código que utilicen este idiom y documentad cada parte de código relevante.\n",
    "\n",
    "**Respuesta:**"
   ]
  },
  {
   "cell_type": "markdown",
   "metadata": {},
   "source": [
    "El idiom \"List comprehensions\" proporciona una sintexis alternativa para la creación de listas donde cada elemento de la misma es el resultado de ciertas operaciones aplicadas a otra secuencia o iterable.\n",
    "Por ejemplo, dada una lista de valores enteros, podemos crear una nueva lista aplicando alguna operación matemática a los elementos de la primera:"
   ]
  },
  {
   "cell_type": "code",
   "execution_count": 38,
   "metadata": {},
   "outputs": [
    {
     "name": "stdout",
     "output_type": "stream",
     "text": [
      "[-27, -1, 1, 27]\n"
     ]
    }
   ],
   "source": [
    "#Definimos una lista de enteros cualquiera\n",
    "lista_num = [-3, -1, 1, 3]\n",
    "#Definimos una nueva lista a partir de los elementos de la anterior, elevandolos al cubo y \n",
    "#la mostramos por pantalla\n",
    "lista_num_cubo = [x**3 for x in lista_num]\n",
    "print (lista_num_cubo)"
   ]
  },
  {
   "cell_type": "markdown",
   "metadata": {},
   "source": [
    "También podemos utilizar declaraciones más complejas, como **for** o **if** y tratar contenidos de varias listas o diccionarios. Por ejemplo, podemos analizar los pares clave-valor de un diccionario, aplicar alguna condición a los mismos y guardar en una lista el resultado de dicha condición (es decir, qué elementos la cumplen y cuáles no):"
   ]
  },
  {
   "cell_type": "code",
   "execution_count": 37,
   "metadata": {},
   "outputs": [
    {
     "name": "stdout",
     "output_type": "stream",
     "text": [
      "['escorial_25', 'valencia_52']\n"
     ]
    }
   ],
   "source": [
    "#Definimos un diccionario con pares clave-valor de tipo dirección-precio_alquiler\n",
    "alquileres = dict(muntaner_289=1200, valencia_52=950, diagonal_440=1600, escorial_25=900)\n",
    "#Definimos una lista conteniendo las claves de los pisos con valor (alquiler) menor a 1000\n",
    "#y la mostramos por pantalla\n",
    "alquileres_economicos = [k for k,v in sorted(alquileres.items()) if v <1000]\n",
    "print (alquileres_economicos)"
   ]
  },
  {
   "cell_type": "markdown",
   "metadata": {},
   "source": [
    "Otro posible uso sería la extracción de ciertas partes o cadenas de texto de un string. Para ello, definimos una función con el comportamiento deseado, hacieno uso de sintaxis \"list comprehension\". Por defecto, al aplicar la función, cada caracter se convierte en un elemento de la lista. Para una visualización correcta, se hace uso de la función \"join\", que agrupa los carácteres."
   ]
  },
  {
   "cell_type": "code",
   "execution_count": 48,
   "metadata": {},
   "outputs": [
    {
     "name": "stdout",
     "output_type": "stream",
     "text": [
      "['L', 's', ' ', 'r', 's', 'l', 't', 'd', 's', ' ', 'm', 's', 't', 'r', 'n', ' ', 'n', ' ', 'c', 'r', 'c', 'm', 'n', 't', ' ', 'd', 'l', ' ', '3', '%', ' ', 'd', 'r', 'n', 't', ' ', 'l', ' ', 'p', 'r', 'm', 'r', ' ', 's', 'm', 's', 't', 'r', ' ', 'd', ' ', '2', '0', '1', '7', '.']\n",
      "Ls rsltds mstrn n crcmnt dl 3% drnt l prmr smstr d 2017.\n"
     ]
    }
   ],
   "source": [
    "#Definimos una cadena de texto\n",
    "texto = 'Los resultados muestran un crecimiento del 3% durante el primer semestre de 2017.'\n",
    "#Definimos una función mediante list comprehension\n",
    "def excluir_vocales(x):\n",
    "    return [x for x in texto if x not in 'aeiou']\n",
    "#Aplicamos la función a la cadena de texto y la mostramos por pantalla\n",
    "print (excluir_vocales(texto))\n",
    "#Alternativa legible: aplicamos la función a la cadena de texto, la agrupamos mediante \"join\" y la mostramos por pantalla\n",
    "print (\"\".join(excluir_vocales(texto)))\n"
   ]
  },
  {
   "cell_type": "markdown",
   "metadata": {},
   "source": [
    "### Ejercicio 1\n",
    "\n",
    "Escribid un programa que asigne dos valores enteros cualesquiera (escoged un número entero aleatorio) a dos variables con nombre a y b, calcule el producto de a por b y finalmente muestre el valor del cuadrado del producto de a por b.\n",
    "\n",
    "#### Respuesta:"
   ]
  },
  {
   "cell_type": "code",
   "execution_count": 8,
   "metadata": {
    "collapsed": true
   },
   "outputs": [],
   "source": [
    "#Importamos la funcion random\n",
    "import random\n",
    "#Asignamos dos valores enteros aleatorio entre 0 y 100 a cada una de las variables a y b\n",
    "a, b = random.randint(0,100), random.randint(0,100)\n",
    "#Calculamos el producto de a por b\n",
    "c = a*b\n",
    "#Mostramos por pantalla el cuadrado de a por b\n",
    "print (c**2)"
   ]
  },
  {
   "cell_type": "markdown",
   "metadata": {},
   "source": [
    "### Ejercicio 2\n",
    "\n",
    "Escribid un programa que defina una lista cuyos valores sean los nombres de los días de la semana. Haced que muestre el primer y el último día de la semana.\n",
    "\n",
    "#### Respuesta:"
   ]
  },
  {
   "cell_type": "code",
   "execution_count": 1,
   "metadata": {
    "collapsed": true
   },
   "outputs": [],
   "source": [
    "#Creamos una lista cuyos elementos son strings de los dias de la semana\n",
    "dias_semana = ['Lunes', 'Martes', 'Miercoles', 'Jueves', 'Viernes', 'Sabado', 'Domingo']\n",
    "#Mostramos por pantalla el primer y ultimo elemento de la lista\n",
    "print (dias_semana[0], dias_semana[-1])"
   ]
  },
  {
   "cell_type": "markdown",
   "metadata": {},
   "source": [
    "### Ejercicio 3\n",
    "\n",
    "Escribid un programa que calcule el área de un círculo de radio 3.\n",
    "\n",
    "#### Respuesta:"
   ]
  },
  {
   "cell_type": "code",
   "execution_count": 4,
   "metadata": {},
   "outputs": [
    {
     "name": "stdout",
     "output_type": "stream",
     "text": [
      "9852.03456165759\n"
     ]
    }
   ],
   "source": [
    "#Importamos las librerias random y math\n",
    "import random, math\n",
    "#Definimos el radio del circulo como un valor entero aleatorio entre 0 y 100\n",
    "radio = random.randint(1,100)\n",
    "#Calculamos el area del circulo utilizando la constante pi de la libreria math\n",
    "area_circulo = math.pi*radio**2\n",
    "#Mostramos por pantalla el valor del area calculado\n",
    "print (area_circulo)"
   ]
  },
  {
   "cell_type": "markdown",
   "metadata": {},
   "source": [
    "### Ejercicio 4\n",
    "\n",
    "Escribid un programa donde se defina un diccionario con algunos de los prefijos telefónicos de España. Por ejemplo: 93 para Barcelona, 91 para Madrid, etc.\n",
    "\n",
    "#### Respuesta:"
   ]
  },
  {
   "cell_type": "code",
   "execution_count": 3,
   "metadata": {},
   "outputs": [
    {
     "name": "stdout",
     "output_type": "stream",
     "text": [
      "prefijos['Barcelona']:  93\n"
     ]
    }
   ],
   "source": [
    "#Definimos un diccionario con pares clave-valor de ciudad y prefijo\n",
    "prefijos = {'Barcelona': 93, 'Madrid': 91, 'A Coruña': 981, 'Alicante' : 96}\n",
    "#Adicionalmente, mostramos por pantalla el valor asociado con la clave \"Barcelona\"\n",
    "print (\"prefijos['Barcelona']: \", prefijos['Barcelona'])"
   ]
  },
  {
   "cell_type": "code",
   "execution_count": null,
   "metadata": {},
   "outputs": [],
   "source": []
  },
  {
   "cell_type": "code",
   "execution_count": null,
   "metadata": {},
   "outputs": [],
   "source": []
  }
 ],
 "metadata": {
  "kernelspec": {
   "display_name": "Python 3",
   "language": "python",
   "name": "python3"
  },
  "language_info": {
   "codemirror_mode": {
    "name": "ipython",
    "version": 3
   },
   "file_extension": ".py",
   "mimetype": "text/x-python",
   "name": "python",
   "nbconvert_exporter": "python",
   "pygments_lexer": "ipython3",
   "version": "3.5.2"
  }
 },
 "nbformat": 4,
 "nbformat_minor": 1
}
